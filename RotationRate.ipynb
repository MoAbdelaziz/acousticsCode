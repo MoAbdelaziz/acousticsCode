{
 "cells": [
  {
   "cell_type": "code",
   "execution_count": 1,
   "metadata": {},
   "outputs": [],
   "source": [
    "import numpy as np"
   ]
  },
  {
   "cell_type": "code",
   "execution_count": 26,
   "metadata": {},
   "outputs": [
    {
     "name": "stdout",
     "output_type": "stream",
     "text": [
      "Standing wave pressure: 17320.5080757 Pa\n",
      "Stokes attenuation coefficient: alpha: 383518325.24/m\n",
      "Rotation rate: Omega0: 21.0165301635 Hz\n"
     ]
    }
   ],
   "source": [
    "### Assumption\n",
    "# particle radius [m]\n",
    "ap = 2e-6\n",
    "# driving frequency [Hz]\n",
    "f = 2e6\n",
    "omega = 2.*np.pi * f\n",
    "# sound intensity [Watt] assuming a Q factor of 10 for the system\n",
    "inten = 100.\n",
    "# density [kg/m^3]\n",
    "rhom = 1e3\n",
    "rhop = 1.22e-3\n",
    "# viscosity of medium and particle [kg/(m s)]\n",
    "etam = 1e-3\n",
    "etap = 10.*etam\n",
    "# speed of sound in medium and particle [m/s]\n",
    "cm = 1.5e3\n",
    "cp = cm\n",
    "### Results\n",
    "# Standing wave pressure [N/m^2]\n",
    "p0 = np.sqrt(inten * 2. * rhom * cm)\n",
    "print('Standing wave pressure: {} Pa'.format(p0))\n",
    "# Stokes attenuation coefficient [m^{-1}]\n",
    "alpha = 2./3. * etap /(rhop * cp**2) * omega**2\n",
    "print('Stokes attenuation coefficient: alpha: {}/m'.format(alpha))\n",
    "# scale for angular frequency [radian/sec]\n",
    "Omega0 = p0**2/(10.*np.pi) * etap/etam * ap**3 * omega**5/((rhom + 2.*rhop)**2 * cm**2 * cp**4)\n",
    "print('Rotation rate: Omega0: {} Hz'.format(Omega0))"
   ]
  },
  {
   "cell_type": "code",
   "execution_count": null,
   "metadata": {},
   "outputs": [],
   "source": []
  }
 ],
 "metadata": {
  "kernelspec": {
   "display_name": "Python 2",
   "language": "python",
   "name": "python2"
  },
  "language_info": {
   "codemirror_mode": {
    "name": "ipython",
    "version": 2
   },
   "file_extension": ".py",
   "mimetype": "text/x-python",
   "name": "python",
   "nbconvert_exporter": "python",
   "pygments_lexer": "ipython2",
   "version": "2.7.15"
  }
 },
 "nbformat": 4,
 "nbformat_minor": 2
}
